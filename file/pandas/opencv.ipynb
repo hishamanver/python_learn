{
 "cells": [
  {
   "cell_type": "code",
   "execution_count": 2,
   "metadata": {},
   "outputs": [],
   "source": [
    "import cv2\n",
    "import numpy"
   ]
  },
  {
   "cell_type": "code",
   "execution_count": 3,
   "metadata": {},
   "outputs": [
    {
     "data": {
      "text/plain": [
       "['files\\\\IMG_20181219_131553.jpg',\n",
       " 'files\\\\supermarkets-commas.txt',\n",
       " 'files\\\\supermarkets-semi-colons.txt',\n",
       " 'files\\\\supermarkets.csv',\n",
       " 'files\\\\supermarkets.json',\n",
       " 'files\\\\supermarkets.xlsx']"
      ]
     },
     "execution_count": 3,
     "metadata": {},
     "output_type": "execute_result"
    }
   ],
   "source": [
    "import glob2\n",
    "glob2.glob(\"files\\\\*\")"
   ]
  },
  {
   "cell_type": "code",
   "execution_count": 4,
   "metadata": {},
   "outputs": [],
   "source": [
    "im = cv2.imread(\"files\\\\IMG_20181219_131553.jpg\",1)"
   ]
  },
  {
   "cell_type": "code",
   "execution_count": 5,
   "metadata": {},
   "outputs": [
    {
     "data": {
      "text/plain": [
       "True"
      ]
     },
     "execution_count": 5,
     "metadata": {},
     "output_type": "execute_result"
    }
   ],
   "source": [
    "cv2.imwrite('test.jpg',im)"
   ]
  },
  {
   "cell_type": "code",
   "execution_count": 6,
   "metadata": {},
   "outputs": [
    {
     "name": "stdout",
     "output_type": "stream",
     "text": [
      "[[[ 20  35  61]\n",
      "  [ 16  31  57]\n",
      "  [ 14  29  55]\n",
      "  ...\n",
      "  [ 61  88 115]\n",
      "  [ 64  91 118]\n",
      "  [ 61  88 115]]\n",
      "\n",
      " [[ 18  33  59]\n",
      "  [ 16  31  57]\n",
      "  [ 15  30  56]\n",
      "  ...\n",
      "  [ 62  89 116]\n",
      "  [ 66  93 120]\n",
      "  [ 63  90 117]]\n",
      "\n",
      " [[ 19  34  60]\n",
      "  [ 18  33  59]\n",
      "  [ 16  31  57]\n",
      "  ...\n",
      "  [ 61  88 115]\n",
      "  [ 66  93 120]\n",
      "  [ 65  92 119]]\n",
      "\n",
      " ...\n",
      "\n",
      " [[ 36  62  76]\n",
      "  [ 38  64  78]\n",
      "  [ 34  60  74]\n",
      "  ...\n",
      "  [ 66 101 114]\n",
      "  [ 67 102 115]\n",
      "  [ 69 104 117]]\n",
      "\n",
      " [[ 31  57  71]\n",
      "  [ 34  60  74]\n",
      "  [ 32  58  72]\n",
      "  ...\n",
      "  [ 64  99 112]\n",
      "  [ 66 101 114]\n",
      "  [ 66 101 114]]\n",
      "\n",
      " [[ 36  62  76]\n",
      "  [ 42  68  82]\n",
      "  [ 41  67  81]\n",
      "  ...\n",
      "  [ 68 103 116]\n",
      "  [ 71 106 119]\n",
      "  [ 71 106 119]]]\n"
     ]
    }
   ],
   "source": [
    "print(im)"
   ]
  },
  {
   "cell_type": "code",
   "execution_count": null,
   "metadata": {},
   "outputs": [],
   "source": []
  }
 ],
 "metadata": {
  "kernelspec": {
   "display_name": "Python 3",
   "language": "python",
   "name": "python3"
  },
  "language_info": {
   "codemirror_mode": {
    "name": "ipython",
    "version": 3
   },
   "file_extension": ".py",
   "mimetype": "text/x-python",
   "name": "python",
   "nbconvert_exporter": "python",
   "pygments_lexer": "ipython3",
   "version": "3.7.1"
  }
 },
 "nbformat": 4,
 "nbformat_minor": 2
}
